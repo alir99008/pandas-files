{
 "cells": [
  {
   "cell_type": "code",
   "execution_count": 1,
   "id": "1eeb91f4",
   "metadata": {},
   "outputs": [],
   "source": [
    "import pandas as pd\n",
    "\n",
    "info = pd.Series([\"urdu\",\"English\",\"isl\",\"phy\",\"MAath\",\"Science\"],[10 ,20,30,40,50,60]);\n",
    "# info = pd.Series(data = [\"urdu\",\"English\",\"isl\",\"phy\",\"MAath\",\"Science\"],index=[10 ,20,30,40,50,60]);     #hum esy B likh sakty hain..."
   ]
  },
  {
   "cell_type": "code",
   "execution_count": 2,
   "id": "2dc4c095",
   "metadata": {},
   "outputs": [
    {
     "data": {
      "text/plain": [
       "10       urdu\n",
       "20    English\n",
       "30        isl\n",
       "40        phy\n",
       "50      MAath\n",
       "60    Science\n",
       "dtype: object"
      ]
     },
     "execution_count": 2,
     "metadata": {},
     "output_type": "execute_result"
    }
   ],
   "source": [
    "info"
   ]
  },
  {
   "cell_type": "code",
   "execution_count": 3,
   "id": "8c4a03f3",
   "metadata": {},
   "outputs": [],
   "source": [
    "info = pd.Series(data = [\"urdu\",50,40,\"phy\",\"MAath\",\"Science\"],index = [10 ,\"English\",30,\"phy\",50,60]);    #this is called hetrogenus because we we can written both types of elements in one array.."
   ]
  },
  {
   "cell_type": "code",
   "execution_count": 4,
   "id": "79db21ce",
   "metadata": {},
   "outputs": [
    {
     "name": "stdout",
     "output_type": "stream",
     "text": [
      "information =  10            urdu\n",
      "English         50\n",
      "30              40\n",
      "phy            phy\n",
      "50           MAath\n",
      "60         Science\n",
      "dtype: object\n",
      "Element at index English =  50\n",
      "Element at location 50 =  MAath\n",
      "Elements of index =  10        urdu\n",
      "phy        phy\n",
      "60     Science\n",
      "dtype: object\n",
      "check the data at index wise =  English     50\n",
      "30          40\n",
      "phy        phy\n",
      "dtype: object\n",
      "return true or false if the condition is true =  False\n"
     ]
    }
   ],
   "source": [
    "print(\"information = \",info)\n",
    "print(\"Element at index English = \",info[\"English\"])\n",
    "print(\"Element at location 50 = \",info[50])   #this is the same as like index\n",
    "print(\"Elements of index = \",info[[10,\"phy\",60]])\n",
    "print(\"check the data at index wise = \",info.iloc[[1,2,3]])\n",
    "print(\"return true or false if the condition is true = \",90 in info)"
   ]
  },
  {
   "cell_type": "code",
   "execution_count": null,
   "id": "96aaf743",
   "metadata": {},
   "outputs": [],
   "source": []
  }
 ],
 "metadata": {
  "kernelspec": {
   "display_name": "Python 3 (ipykernel)",
   "language": "python",
   "name": "python3"
  },
  "language_info": {
   "codemirror_mode": {
    "name": "ipython",
    "version": 3
   },
   "file_extension": ".py",
   "mimetype": "text/x-python",
   "name": "python",
   "nbconvert_exporter": "python",
   "pygments_lexer": "ipython3",
   "version": "3.9.7"
  }
 },
 "nbformat": 4,
 "nbformat_minor": 5
}
