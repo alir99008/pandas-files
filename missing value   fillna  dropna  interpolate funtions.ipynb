{
 "cells": [
  {
   "cell_type": "code",
   "execution_count": 1,
   "id": "fdc7e0b2",
   "metadata": {},
   "outputs": [
    {
     "data": {
      "text/html": [
       "<div>\n",
       "<style scoped>\n",
       "    .dataframe tbody tr th:only-of-type {\n",
       "        vertical-align: middle;\n",
       "    }\n",
       "\n",
       "    .dataframe tbody tr th {\n",
       "        vertical-align: top;\n",
       "    }\n",
       "\n",
       "    .dataframe thead th {\n",
       "        text-align: right;\n",
       "    }\n",
       "</style>\n",
       "<table border=\"1\" class=\"dataframe\">\n",
       "  <thead>\n",
       "    <tr style=\"text-align: right;\">\n",
       "      <th></th>\n",
       "      <th>date</th>\n",
       "      <th>Subjects</th>\n",
       "      <th>Ali</th>\n",
       "      <th>Ahmed</th>\n",
       "      <th>Sania</th>\n",
       "      <th>Khawar</th>\n",
       "      <th>Bilal</th>\n",
       "      <th>Shani</th>\n",
       "    </tr>\n",
       "  </thead>\n",
       "  <tbody>\n",
       "    <tr>\n",
       "      <th>0</th>\n",
       "      <td>12/02/2021</td>\n",
       "      <td>English</td>\n",
       "      <td>10</td>\n",
       "      <td>22.0</td>\n",
       "      <td>13.0</td>\n",
       "      <td>71.0</td>\n",
       "      <td>89.0</td>\n",
       "      <td>32.0</td>\n",
       "    </tr>\n",
       "    <tr>\n",
       "      <th>1</th>\n",
       "      <td>13/02/2021</td>\n",
       "      <td>Urud</td>\n",
       "      <td>NaN</td>\n",
       "      <td>32.0</td>\n",
       "      <td>23.0</td>\n",
       "      <td>81.0</td>\n",
       "      <td>20.0</td>\n",
       "      <td>57.0</td>\n",
       "    </tr>\n",
       "    <tr>\n",
       "      <th>2</th>\n",
       "      <td>14/02/2021</td>\n",
       "      <td>Math</td>\n",
       "      <td>30</td>\n",
       "      <td>42.0</td>\n",
       "      <td>32.0</td>\n",
       "      <td>NaN</td>\n",
       "      <td>NaN</td>\n",
       "      <td>32.0</td>\n",
       "    </tr>\n",
       "    <tr>\n",
       "      <th>3</th>\n",
       "      <td>15/02/2021</td>\n",
       "      <td>Computer</td>\n",
       "      <td>40</td>\n",
       "      <td>52.0</td>\n",
       "      <td>NaN</td>\n",
       "      <td>NaN</td>\n",
       "      <td>34.0</td>\n",
       "      <td>20.0</td>\n",
       "    </tr>\n",
       "    <tr>\n",
       "      <th>4</th>\n",
       "      <td>16/02/2021</td>\n",
       "      <td>G.Science</td>\n",
       "      <td>NaN</td>\n",
       "      <td>NaN</td>\n",
       "      <td>20.0</td>\n",
       "      <td>73.0</td>\n",
       "      <td>45.0</td>\n",
       "      <td>64.0</td>\n",
       "    </tr>\n",
       "    <tr>\n",
       "      <th>5</th>\n",
       "      <td>17/02/2021</td>\n",
       "      <td>Pak Studies</td>\n",
       "      <td>50</td>\n",
       "      <td>NaN</td>\n",
       "      <td>20.0</td>\n",
       "      <td>57.0</td>\n",
       "      <td>NaN</td>\n",
       "      <td>NaN</td>\n",
       "    </tr>\n",
       "    <tr>\n",
       "      <th>6</th>\n",
       "      <td>18/02/2021</td>\n",
       "      <td>Programming Fundamental</td>\n",
       "      <td>Computer</td>\n",
       "      <td>20.0</td>\n",
       "      <td>NaN</td>\n",
       "      <td>32.0</td>\n",
       "      <td>54.0</td>\n",
       "      <td>NaN</td>\n",
       "    </tr>\n",
       "    <tr>\n",
       "      <th>7</th>\n",
       "      <td>19/02/2021</td>\n",
       "      <td>Linear Algebra</td>\n",
       "      <td>70</td>\n",
       "      <td>82.0</td>\n",
       "      <td>82.0</td>\n",
       "      <td>NaN</td>\n",
       "      <td>20.0</td>\n",
       "      <td>76.0</td>\n",
       "    </tr>\n",
       "    <tr>\n",
       "      <th>8</th>\n",
       "      <td>20/02/2021</td>\n",
       "      <td>Ecnomics</td>\n",
       "      <td>NaN</td>\n",
       "      <td>NaN</td>\n",
       "      <td>20.0</td>\n",
       "      <td>84.0</td>\n",
       "      <td>56.0</td>\n",
       "      <td>32.0</td>\n",
       "    </tr>\n",
       "  </tbody>\n",
       "</table>\n",
       "</div>"
      ],
      "text/plain": [
       "         date                 Subjects       Ali  Ahmed  Sania  Khawar  Bilal  \\\n",
       "0  12/02/2021                  English        10   22.0   13.0    71.0   89.0   \n",
       "1  13/02/2021                     Urud       NaN   32.0   23.0    81.0   20.0   \n",
       "2  14/02/2021                     Math        30   42.0   32.0     NaN    NaN   \n",
       "3  15/02/2021                 Computer        40   52.0    NaN     NaN   34.0   \n",
       "4  16/02/2021                G.Science       NaN    NaN   20.0    73.0   45.0   \n",
       "5  17/02/2021              Pak Studies        50    NaN   20.0    57.0    NaN   \n",
       "6  18/02/2021  Programming Fundamental  Computer   20.0    NaN    32.0   54.0   \n",
       "7  19/02/2021           Linear Algebra        70   82.0   82.0     NaN   20.0   \n",
       "8  20/02/2021                 Ecnomics       NaN    NaN   20.0    84.0   56.0   \n",
       "\n",
       "   Shani  \n",
       "0   32.0  \n",
       "1   57.0  \n",
       "2   32.0  \n",
       "3   20.0  \n",
       "4   64.0  \n",
       "5    NaN  \n",
       "6    NaN  \n",
       "7   76.0  \n",
       "8   32.0  "
      ]
     },
     "execution_count": 1,
     "metadata": {},
     "output_type": "execute_result"
    }
   ],
   "source": [
    "import pandas as pd\n",
    "df = pd.read_csv(\"missing data.csv\")\n",
    "df"
   ]
  },
  {
   "cell_type": "code",
   "execution_count": 2,
   "id": "fbabade7",
   "metadata": {},
   "outputs": [
    {
     "name": "stdout",
     "output_type": "stream",
     "text": [
      "<class 'str'>\n",
      "<class 'str'>\n"
     ]
    },
    {
     "data": {
      "text/plain": [
       "str"
      ]
     },
     "execution_count": 2,
     "metadata": {},
     "output_type": "execute_result"
    }
   ],
   "source": [
    "\n",
    "print(type(df.Subjects[1]))\n",
    "print(type(df.date[1]))\n",
    "type(df.Ali[0])   #yeh column ki type type check krny k liye ha"
   ]
  },
  {
   "cell_type": "code",
   "execution_count": 3,
   "id": "a1a416bf",
   "metadata": {},
   "outputs": [
    {
     "name": "stdout",
     "output_type": "stream",
     "text": [
      "<class 'pandas._libs.tslibs.timestamps.Timestamp'>\n"
     ]
    },
    {
     "data": {
      "text/html": [
       "<div>\n",
       "<style scoped>\n",
       "    .dataframe tbody tr th:only-of-type {\n",
       "        vertical-align: middle;\n",
       "    }\n",
       "\n",
       "    .dataframe tbody tr th {\n",
       "        vertical-align: top;\n",
       "    }\n",
       "\n",
       "    .dataframe thead th {\n",
       "        text-align: right;\n",
       "    }\n",
       "</style>\n",
       "<table border=\"1\" class=\"dataframe\">\n",
       "  <thead>\n",
       "    <tr style=\"text-align: right;\">\n",
       "      <th></th>\n",
       "      <th>date</th>\n",
       "      <th>Subjects</th>\n",
       "      <th>Ali</th>\n",
       "      <th>Ahmed</th>\n",
       "      <th>Sania</th>\n",
       "      <th>Khawar</th>\n",
       "      <th>Bilal</th>\n",
       "      <th>Shani</th>\n",
       "    </tr>\n",
       "  </thead>\n",
       "  <tbody>\n",
       "    <tr>\n",
       "      <th>0</th>\n",
       "      <td>2021-12-02</td>\n",
       "      <td>English</td>\n",
       "      <td>10</td>\n",
       "      <td>22.0</td>\n",
       "      <td>13.0</td>\n",
       "      <td>71.0</td>\n",
       "      <td>89.0</td>\n",
       "      <td>32.0</td>\n",
       "    </tr>\n",
       "    <tr>\n",
       "      <th>1</th>\n",
       "      <td>2021-02-13</td>\n",
       "      <td>Urud</td>\n",
       "      <td>NaN</td>\n",
       "      <td>32.0</td>\n",
       "      <td>23.0</td>\n",
       "      <td>81.0</td>\n",
       "      <td>20.0</td>\n",
       "      <td>57.0</td>\n",
       "    </tr>\n",
       "    <tr>\n",
       "      <th>2</th>\n",
       "      <td>2021-02-14</td>\n",
       "      <td>Math</td>\n",
       "      <td>30</td>\n",
       "      <td>42.0</td>\n",
       "      <td>32.0</td>\n",
       "      <td>NaN</td>\n",
       "      <td>NaN</td>\n",
       "      <td>32.0</td>\n",
       "    </tr>\n",
       "    <tr>\n",
       "      <th>3</th>\n",
       "      <td>2021-02-15</td>\n",
       "      <td>Computer</td>\n",
       "      <td>40</td>\n",
       "      <td>52.0</td>\n",
       "      <td>NaN</td>\n",
       "      <td>NaN</td>\n",
       "      <td>34.0</td>\n",
       "      <td>20.0</td>\n",
       "    </tr>\n",
       "    <tr>\n",
       "      <th>4</th>\n",
       "      <td>2021-02-16</td>\n",
       "      <td>G.Science</td>\n",
       "      <td>NaN</td>\n",
       "      <td>NaN</td>\n",
       "      <td>20.0</td>\n",
       "      <td>73.0</td>\n",
       "      <td>45.0</td>\n",
       "      <td>64.0</td>\n",
       "    </tr>\n",
       "    <tr>\n",
       "      <th>5</th>\n",
       "      <td>2021-02-17</td>\n",
       "      <td>Pak Studies</td>\n",
       "      <td>50</td>\n",
       "      <td>NaN</td>\n",
       "      <td>20.0</td>\n",
       "      <td>57.0</td>\n",
       "      <td>NaN</td>\n",
       "      <td>NaN</td>\n",
       "    </tr>\n",
       "    <tr>\n",
       "      <th>6</th>\n",
       "      <td>2021-02-18</td>\n",
       "      <td>Programming Fundamental</td>\n",
       "      <td>Computer</td>\n",
       "      <td>20.0</td>\n",
       "      <td>NaN</td>\n",
       "      <td>32.0</td>\n",
       "      <td>54.0</td>\n",
       "      <td>NaN</td>\n",
       "    </tr>\n",
       "    <tr>\n",
       "      <th>7</th>\n",
       "      <td>2021-02-19</td>\n",
       "      <td>Linear Algebra</td>\n",
       "      <td>70</td>\n",
       "      <td>82.0</td>\n",
       "      <td>82.0</td>\n",
       "      <td>NaN</td>\n",
       "      <td>20.0</td>\n",
       "      <td>76.0</td>\n",
       "    </tr>\n",
       "    <tr>\n",
       "      <th>8</th>\n",
       "      <td>2021-02-20</td>\n",
       "      <td>Ecnomics</td>\n",
       "      <td>NaN</td>\n",
       "      <td>NaN</td>\n",
       "      <td>20.0</td>\n",
       "      <td>84.0</td>\n",
       "      <td>56.0</td>\n",
       "      <td>32.0</td>\n",
       "    </tr>\n",
       "  </tbody>\n",
       "</table>\n",
       "</div>"
      ],
      "text/plain": [
       "        date                 Subjects       Ali  Ahmed  Sania  Khawar  Bilal  \\\n",
       "0 2021-12-02                  English        10   22.0   13.0    71.0   89.0   \n",
       "1 2021-02-13                     Urud       NaN   32.0   23.0    81.0   20.0   \n",
       "2 2021-02-14                     Math        30   42.0   32.0     NaN    NaN   \n",
       "3 2021-02-15                 Computer        40   52.0    NaN     NaN   34.0   \n",
       "4 2021-02-16                G.Science       NaN    NaN   20.0    73.0   45.0   \n",
       "5 2021-02-17              Pak Studies        50    NaN   20.0    57.0    NaN   \n",
       "6 2021-02-18  Programming Fundamental  Computer   20.0    NaN    32.0   54.0   \n",
       "7 2021-02-19           Linear Algebra        70   82.0   82.0     NaN   20.0   \n",
       "8 2021-02-20                 Ecnomics       NaN    NaN   20.0    84.0   56.0   \n",
       "\n",
       "   Shani  \n",
       "0   32.0  \n",
       "1   57.0  \n",
       "2   32.0  \n",
       "3   20.0  \n",
       "4   64.0  \n",
       "5    NaN  \n",
       "6    NaN  \n",
       "7   76.0  \n",
       "8   32.0  "
      ]
     },
     "execution_count": 3,
     "metadata": {},
     "output_type": "execute_result"
    }
   ],
   "source": [
    "df = pd.read_csv(\"missing data.csv\" , parse_dates = [\"date\"] )\n",
    "print(type(df.date[0]))\n",
    "df"
   ]
  },
  {
   "cell_type": "code",
   "execution_count": null,
   "id": "ebf9eeff",
   "metadata": {},
   "outputs": [],
   "source": [
    "df = pd.read_csv(\"missing data.csv\" , parse_dates = [\"date\"] )\n",
    "df.set_index(\"date\")       #es sy data frame main values values Save nai hongi us k liye hamain in place ka function use krna pry ga\n"
   ]
  },
  {
   "cell_type": "code",
   "execution_count": null,
   "id": "ce870892",
   "metadata": {},
   "outputs": [],
   "source": [
    "df = pd.read_csv(\"missing data.csv\")\n",
    "df"
   ]
  },
  {
   "cell_type": "code",
   "execution_count": null,
   "id": "d651deb9",
   "metadata": {},
   "outputs": [],
   "source": [
    "df = pd.read_csv(\"missing data.csv\" , parse_dates = [\"date\"] )\n",
    "df.set_index(\"date\" , inplace = True)   #es sy data save ho jay ga ha jab hum df ko use krain gy to yeh wali he values dy ga\n",
    "df"
   ]
  },
  {
   "cell_type": "markdown",
   "id": "71e24522",
   "metadata": {},
   "source": [
    "# filna functions"
   ]
  },
  {
   "cell_type": "code",
   "execution_count": null,
   "id": "a7ed307e",
   "metadata": {},
   "outputs": [],
   "source": [
    "new_df = df.fillna(0)      #yeh function blank cell or NaN values ko zero sy fill kr dy ga \n",
    "new_df"
   ]
  },
  {
   "cell_type": "code",
   "execution_count": null,
   "id": "f01dc0a4",
   "metadata": {},
   "outputs": [],
   "source": [
    "new_df = df.fillna(\"no\")      #yeh function blank cell or no values ko zero sy fill kr dy ga \n",
    "new_df"
   ]
  },
  {
   "cell_type": "code",
   "execution_count": 4,
   "id": "c461645a",
   "metadata": {},
   "outputs": [
    {
     "data": {
      "text/html": [
       "<div>\n",
       "<style scoped>\n",
       "    .dataframe tbody tr th:only-of-type {\n",
       "        vertical-align: middle;\n",
       "    }\n",
       "\n",
       "    .dataframe tbody tr th {\n",
       "        vertical-align: top;\n",
       "    }\n",
       "\n",
       "    .dataframe thead th {\n",
       "        text-align: right;\n",
       "    }\n",
       "</style>\n",
       "<table border=\"1\" class=\"dataframe\">\n",
       "  <thead>\n",
       "    <tr style=\"text-align: right;\">\n",
       "      <th></th>\n",
       "      <th>date</th>\n",
       "      <th>Subjects</th>\n",
       "      <th>Ali</th>\n",
       "      <th>Ahmed</th>\n",
       "      <th>Sania</th>\n",
       "      <th>Khawar</th>\n",
       "      <th>Bilal</th>\n",
       "      <th>Shani</th>\n",
       "    </tr>\n",
       "  </thead>\n",
       "  <tbody>\n",
       "    <tr>\n",
       "      <th>0</th>\n",
       "      <td>2021-12-02</td>\n",
       "      <td>English</td>\n",
       "      <td>10</td>\n",
       "      <td>22.0</td>\n",
       "      <td>13.0</td>\n",
       "      <td>71.0</td>\n",
       "      <td>89.0</td>\n",
       "      <td>32.0</td>\n",
       "    </tr>\n",
       "    <tr>\n",
       "      <th>1</th>\n",
       "      <td>2021-02-13</td>\n",
       "      <td>Urud</td>\n",
       "      <td>0</td>\n",
       "      <td>32.0</td>\n",
       "      <td>23.0</td>\n",
       "      <td>81.0</td>\n",
       "      <td>20.0</td>\n",
       "      <td>57.0</td>\n",
       "    </tr>\n",
       "    <tr>\n",
       "      <th>2</th>\n",
       "      <td>2021-02-14</td>\n",
       "      <td>Math</td>\n",
       "      <td>30</td>\n",
       "      <td>42.0</td>\n",
       "      <td>32.0</td>\n",
       "      <td>NaN</td>\n",
       "      <td>NaN</td>\n",
       "      <td>32.0</td>\n",
       "    </tr>\n",
       "    <tr>\n",
       "      <th>3</th>\n",
       "      <td>2021-02-15</td>\n",
       "      <td>Computer</td>\n",
       "      <td>40</td>\n",
       "      <td>52.0</td>\n",
       "      <td>na</td>\n",
       "      <td>NaN</td>\n",
       "      <td>34.0</td>\n",
       "      <td>20.0</td>\n",
       "    </tr>\n",
       "    <tr>\n",
       "      <th>4</th>\n",
       "      <td>2021-02-16</td>\n",
       "      <td>G.Science</td>\n",
       "      <td>0</td>\n",
       "      <td>0.0</td>\n",
       "      <td>20.0</td>\n",
       "      <td>73.0</td>\n",
       "      <td>45.0</td>\n",
       "      <td>64.0</td>\n",
       "    </tr>\n",
       "    <tr>\n",
       "      <th>5</th>\n",
       "      <td>2021-02-17</td>\n",
       "      <td>Pak Studies</td>\n",
       "      <td>50</td>\n",
       "      <td>0.0</td>\n",
       "      <td>20.0</td>\n",
       "      <td>57.0</td>\n",
       "      <td>NaN</td>\n",
       "      <td>NaN</td>\n",
       "    </tr>\n",
       "    <tr>\n",
       "      <th>6</th>\n",
       "      <td>2021-02-18</td>\n",
       "      <td>Programming Fundamental</td>\n",
       "      <td>Computer</td>\n",
       "      <td>20.0</td>\n",
       "      <td>na</td>\n",
       "      <td>32.0</td>\n",
       "      <td>54.0</td>\n",
       "      <td>NaN</td>\n",
       "    </tr>\n",
       "    <tr>\n",
       "      <th>7</th>\n",
       "      <td>2021-02-19</td>\n",
       "      <td>Linear Algebra</td>\n",
       "      <td>70</td>\n",
       "      <td>82.0</td>\n",
       "      <td>82.0</td>\n",
       "      <td>NaN</td>\n",
       "      <td>20.0</td>\n",
       "      <td>76.0</td>\n",
       "    </tr>\n",
       "    <tr>\n",
       "      <th>8</th>\n",
       "      <td>2021-02-20</td>\n",
       "      <td>Ecnomics</td>\n",
       "      <td>0</td>\n",
       "      <td>0.0</td>\n",
       "      <td>20.0</td>\n",
       "      <td>84.0</td>\n",
       "      <td>56.0</td>\n",
       "      <td>32.0</td>\n",
       "    </tr>\n",
       "  </tbody>\n",
       "</table>\n",
       "</div>"
      ],
      "text/plain": [
       "        date                 Subjects       Ali  Ahmed Sania  Khawar  Bilal  \\\n",
       "0 2021-12-02                  English        10   22.0  13.0    71.0   89.0   \n",
       "1 2021-02-13                     Urud         0   32.0  23.0    81.0   20.0   \n",
       "2 2021-02-14                     Math        30   42.0  32.0     NaN    NaN   \n",
       "3 2021-02-15                 Computer        40   52.0    na     NaN   34.0   \n",
       "4 2021-02-16                G.Science         0    0.0  20.0    73.0   45.0   \n",
       "5 2021-02-17              Pak Studies        50    0.0  20.0    57.0    NaN   \n",
       "6 2021-02-18  Programming Fundamental  Computer   20.0    na    32.0   54.0   \n",
       "7 2021-02-19           Linear Algebra        70   82.0  82.0     NaN   20.0   \n",
       "8 2021-02-20                 Ecnomics         0    0.0  20.0    84.0   56.0   \n",
       "\n",
       "   Shani  \n",
       "0   32.0  \n",
       "1   57.0  \n",
       "2   32.0  \n",
       "3   20.0  \n",
       "4   64.0  \n",
       "5    NaN  \n",
       "6    NaN  \n",
       "7   76.0  \n",
       "8   32.0  "
      ]
     },
     "execution_count": 4,
     "metadata": {},
     "output_type": "execute_result"
    }
   ],
   "source": [
    "new_df = df.fillna({\"Ali\" : 0 , \"Sania\" : \"na\" , \"Ahmed\" : 0})      #es function sy hum apni marzi k apni marzi k cell mai changing kr sakty hain\n",
    "new_df"
   ]
  },
  {
   "cell_type": "code",
   "execution_count": null,
   "id": "5ce2505a",
   "metadata": {},
   "outputs": [],
   "source": [
    "new_df = df.fillna(method = \"ffill\")      #yeh forwad fill ha khali cell main uper waly cell ki value copy kr k fill kr dy ga\n",
    "print(new_df)\n",
    "new_df = df.fillna(method = \"bfill\")    #yeh backward fill ha khali cell main neechay waly cell ki value copy kr k fill kr dy ga\n",
    "print(new_df)\n",
    "new_df = df.fillna(method = \"ffill\" , axis = \"columns\")   #yeh forwad fill ha lakin column wise peechay waly left side waly khali cell  ki value copy kr k fill kr dy ga\n",
    "print(new_df)\n",
    "new_df = df.fillna(method = \"bfill\" , axis = \"columns\")  #yeh backward fill ha lakin column wise agy waly right side waly khali cell  ki value copy kr k fill kr dy ga\n",
    "print(new_df)\n",
    "new_df = df.fillna(method = \"ffill\" , limit = 1)     #yeh forwad fill ha khali cell main uper waly cell ki value copy kr k fill kr dy ga lakin agr 2 cell 1 sath khali aagay to yeh sirf 1 cell main value paste kry ga 2sry main nai\n",
    "print(new_df)\n",
    "new_df = df.fillna(method = \"bfill\" , limit = 2)     #yeh forwad fill ha khali cell main uper waly cell ki value copy kr k fill kr dy ga lakin agr 3 cell 1 sath khali aagay to yeh sirf 2 cell main value paste kry ga 3sry main nai\n",
    "print(new_df)"
   ]
  },
  {
   "cell_type": "markdown",
   "id": "1a28053e",
   "metadata": {},
   "source": [
    "# interpolate"
   ]
  },
  {
   "cell_type": "code",
   "execution_count": null,
   "id": "4daa8a0c",
   "metadata": {
    "scrolled": true
   },
   "outputs": [],
   "source": [
    "df_new = df.interpolate()     #yeh function apny pas sy he guess kr k blank cell mian values paste kr dy ga\n",
    "print(df_new)\n",
    "df_new = df.interpolate(method = \"time\")     #yeh function apny pas sy he guess kr k blank cell mian values paste kr dy ga lakin beeter astimate laga kr time k hisab sy\n",
    "df_new"
   ]
  },
  {
   "cell_type": "markdown",
   "id": "7491f8b8",
   "metadata": {},
   "source": [
    "# dropna"
   ]
  },
  {
   "cell_type": "code",
   "execution_count": null,
   "id": "456a1c49",
   "metadata": {},
   "outputs": [],
   "source": [
    "df_new = df.dropna()   #yeh jis B row main 1 B blank cell howa wo puri row ignore kr dy ga print krty waqt\n",
    "print(df_new)\n",
    "df_new = df.dropna(how = \"all\")    #yeh jis B row main sary cell blank  howa wo puri row ignore kr dy ga print krty waqt\n",
    "print(df_new)\n",
    "df_new = df.dropna(thresh = 2)    #yeh agr kisi row main 2 B esy cell howy to jis main values hoe to cell print krwa dy ga\n",
    "df_new"
   ]
  },
  {
   "cell_type": "code",
   "execution_count": null,
   "id": "3bc5cb17",
   "metadata": {},
   "outputs": [],
   "source": [
    "print(df_new.dropna(how = \"any\").shape)      #yeh row or column return kr dy ga\n",
    "print(df_new.dropna(how = \"any\"))      #jis row main 1 B cell blank howa wo row print nai kry ga sirf wohi row print kry ga jis main sub column howy\n",
    "print(df_new.dropna(subset = [\"Ali\" , \"Ahmed\"] , how = \"any\"))    #hum apni marzi k cell b check kr sakty hain es bar wo check kry ga k ali or ahmed k cell jis row main 2no majood hain wo row print kr dy ga\n",
    "print(df_new.dropna(how = \"all\"))    #es main jab tak puri row blank na hoe tab tak print krta rhy ga\n",
    "\n",
    "\n"
   ]
  },
  {
   "cell_type": "markdown",
   "id": "5c339985",
   "metadata": {},
   "source": [
    "# isnull"
   ]
  },
  {
   "cell_type": "code",
   "execution_count": null,
   "id": "711ce801",
   "metadata": {},
   "outputs": [],
   "source": [
    "\n",
    "dff = pd.read_csv(\"missing data.csv\")\n",
    "dff.set_index(\"date\" , inplace = True)\n",
    "dff\n"
   ]
  },
  {
   "cell_type": "code",
   "execution_count": null,
   "id": "9eff2486",
   "metadata": {},
   "outputs": [],
   "source": [
    "dff.isnull()        #jo jo cell blank hoga us main yeh true return kry ga baki sub cell main false\n"
   ]
  },
  {
   "cell_type": "code",
   "execution_count": null,
   "id": "31c38610",
   "metadata": {},
   "outputs": [],
   "source": [
    "dff.notnull()       #jo jo cell blank hoga us main yeh false return kry ga baki sub cell main true"
   ]
  },
  {
   "cell_type": "code",
   "execution_count": null,
   "id": "e0056d3b",
   "metadata": {},
   "outputs": [],
   "source": [
    "dff.fillna(dff.mean())     #yeh jo jo cell blank hongay us puray column ka mean ly ke blank cell man fill dy ga"
   ]
  },
  {
   "cell_type": "code",
   "execution_count": null,
   "id": "e7cbf71c",
   "metadata": {},
   "outputs": [],
   "source": [
    "dff.fillna(dff.median())      #yeh jo jo cell blank hongay us puray column ka mediandf ly ke blank cell man fill dy ga"
   ]
  },
  {
   "cell_type": "code",
   "execution_count": null,
   "id": "419f3317",
   "metadata": {},
   "outputs": [],
   "source": [
    "dff.isnull().sum()    #yeh humy count kr k btay ga k kis column main kitny cell blank hain"
   ]
  },
  {
   "cell_type": "code",
   "execution_count": null,
   "id": "6e3d3f46",
   "metadata": {},
   "outputs": [],
   "source": [
    "dff[dff.Sania.isnull()]          #yeh hamain wo rows return kry ga jia main sania k cell blank hain "
   ]
  },
  {
   "cell_type": "markdown",
   "id": "64c7df58",
   "metadata": {},
   "source": [
    "## Replace Function"
   ]
  },
  {
   "cell_type": "code",
   "execution_count": null,
   "id": "1be98e9d",
   "metadata": {},
   "outputs": [],
   "source": [
    "import pandas as pd\n",
    "import numpy as np\n",
    "\n",
    "dfff = pd.read_csv(\"missing data.csv\")\n",
    "dfff.set_index(\"date\" , inplace = True) \n",
    "dfff"
   ]
  },
  {
   "cell_type": "code",
   "execution_count": null,
   "id": "3309c489",
   "metadata": {},
   "outputs": [],
   "source": [
    "print(dfff.replace(20 , np.NaN))   #hamry pas jahan jahan B 20 hoga wahan NaN fill kr dy ga or blank column mainb\n",
    "dfff.replace([20 , 32] , np.NaN)    #hamry pas jahan jahan B 20 or 32hoga wahan NaN fill kr dy ga or blank column mainb"
   ]
  },
  {
   "cell_type": "code",
   "execution_count": null,
   "id": "67fcaf6f",
   "metadata": {},
   "outputs": [],
   "source": [
    "dfff.replace([{\"Subjects\"  : \"Computer\"} , 20 , 32] , np.NaN)      #es main sirf subject k column main computer or baki jahan B 20 , 30 hain wahan NaN sy change kr dy ga"
   ]
  },
  {
   "cell_type": "code",
   "execution_count": null,
   "id": "98f8ca4c",
   "metadata": {},
   "outputs": [],
   "source": [
    "\n",
    " dfff.replace({\"Subjects\"  : \"Computer\" , \"Ali\" : 20 , \"Ahmed\" : 20} , np.NaN)   # es sy hum apni marzi sy jis column main jo data change NaN sy krna chahty hain wo krain gy"
   ]
  },
  {
   "cell_type": "code",
   "execution_count": null,
   "id": "2ed7f7ef",
   "metadata": {},
   "outputs": [],
   "source": []
  }
 ],
 "metadata": {
  "kernelspec": {
   "display_name": "Python 3 (ipykernel)",
   "language": "python",
   "name": "python3"
  },
  "language_info": {
   "codemirror_mode": {
    "name": "ipython",
    "version": 3
   },
   "file_extension": ".py",
   "mimetype": "text/x-python",
   "name": "python",
   "nbconvert_exporter": "python",
   "pygments_lexer": "ipython3",
   "version": "3.9.7"
  }
 },
 "nbformat": 4,
 "nbformat_minor": 5
}
