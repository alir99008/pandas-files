{
 "cells": [
  {
   "cell_type": "code",
   "execution_count": 2,
   "id": "4d433098",
   "metadata": {},
   "outputs": [
    {
     "data": {
      "text/plain": [
       "{'City': ['Taxila',\n",
       "  'Peshawar',\n",
       "  'Multan',\n",
       "  'Peshawar',\n",
       "  'Multan',\n",
       "  'Taxila',\n",
       "  'Multan',\n",
       "  'peshawar',\n",
       "  'Taxila'],\n",
       " 'Rank': ['Ist', '2nd', '2nd', '2nd', '2nd', 'Ist', '2nd', '2nd', 'Ist'],\n",
       " 'Game1': [2, 6, 4, 2, 7, 4, 23, 8, 3],\n",
       " 'Game2': [20, 6, 43, 54, 1, 3, 6, 4, 2]}"
      ]
     },
     "execution_count": 2,
     "metadata": {},
     "output_type": "execute_result"
    }
   ],
   "source": [
    "import pandas as pd\n",
    "\n",
    "data = {  \"City\"  : [\"Taxila\" , \"Peshawar\" , \"Multan\", \"Peshawar\" , \"Multan\" , \"Taxila\",\"Multan\" , \"peshawar\" , \"Taxila\"],\n",
    "        \"Rank\"   : [\"Ist\" , \"2nd\" , \"2nd\" , \"2nd\" , \"2nd\" , \"Ist\" , \"2nd\" , \"2nd\" , \"Ist\"],\n",
    "        \"Game1\"  : [2,6,4,2,7,4,23,8,3],\n",
    "        \"Game2\"  : [20,6,43,54,1,3,6,4,2]\n",
    "    \n",
    "}\n",
    "data"
   ]
  },
  {
   "cell_type": "code",
   "execution_count": 3,
   "id": "00dc99a7",
   "metadata": {},
   "outputs": [
    {
     "data": {
      "text/html": [
       "<div>\n",
       "<style scoped>\n",
       "    .dataframe tbody tr th:only-of-type {\n",
       "        vertical-align: middle;\n",
       "    }\n",
       "\n",
       "    .dataframe tbody tr th {\n",
       "        vertical-align: top;\n",
       "    }\n",
       "\n",
       "    .dataframe thead th {\n",
       "        text-align: right;\n",
       "    }\n",
       "</style>\n",
       "<table border=\"1\" class=\"dataframe\">\n",
       "  <thead>\n",
       "    <tr style=\"text-align: right;\">\n",
       "      <th></th>\n",
       "      <th>City</th>\n",
       "      <th>Rank</th>\n",
       "      <th>Game1</th>\n",
       "      <th>Game2</th>\n",
       "    </tr>\n",
       "  </thead>\n",
       "  <tbody>\n",
       "    <tr>\n",
       "      <th>A</th>\n",
       "      <td>Taxila</td>\n",
       "      <td>Ist</td>\n",
       "      <td>2</td>\n",
       "      <td>20</td>\n",
       "    </tr>\n",
       "    <tr>\n",
       "      <th>B</th>\n",
       "      <td>Peshawar</td>\n",
       "      <td>2nd</td>\n",
       "      <td>6</td>\n",
       "      <td>6</td>\n",
       "    </tr>\n",
       "    <tr>\n",
       "      <th>C</th>\n",
       "      <td>Multan</td>\n",
       "      <td>2nd</td>\n",
       "      <td>4</td>\n",
       "      <td>43</td>\n",
       "    </tr>\n",
       "    <tr>\n",
       "      <th>D</th>\n",
       "      <td>Peshawar</td>\n",
       "      <td>2nd</td>\n",
       "      <td>2</td>\n",
       "      <td>54</td>\n",
       "    </tr>\n",
       "    <tr>\n",
       "      <th>E</th>\n",
       "      <td>Multan</td>\n",
       "      <td>2nd</td>\n",
       "      <td>7</td>\n",
       "      <td>1</td>\n",
       "    </tr>\n",
       "    <tr>\n",
       "      <th>F</th>\n",
       "      <td>Taxila</td>\n",
       "      <td>Ist</td>\n",
       "      <td>4</td>\n",
       "      <td>3</td>\n",
       "    </tr>\n",
       "    <tr>\n",
       "      <th>I</th>\n",
       "      <td>Multan</td>\n",
       "      <td>2nd</td>\n",
       "      <td>23</td>\n",
       "      <td>6</td>\n",
       "    </tr>\n",
       "    <tr>\n",
       "      <th>J</th>\n",
       "      <td>peshawar</td>\n",
       "      <td>2nd</td>\n",
       "      <td>8</td>\n",
       "      <td>4</td>\n",
       "    </tr>\n",
       "    <tr>\n",
       "      <th>K</th>\n",
       "      <td>Taxila</td>\n",
       "      <td>Ist</td>\n",
       "      <td>3</td>\n",
       "      <td>2</td>\n",
       "    </tr>\n",
       "  </tbody>\n",
       "</table>\n",
       "</div>"
      ],
      "text/plain": [
       "       City Rank  Game1  Game2\n",
       "A    Taxila  Ist      2     20\n",
       "B  Peshawar  2nd      6      6\n",
       "C    Multan  2nd      4     43\n",
       "D  Peshawar  2nd      2     54\n",
       "E    Multan  2nd      7      1\n",
       "F    Taxila  Ist      4      3\n",
       "I    Multan  2nd     23      6\n",
       "J  peshawar  2nd      8      4\n",
       "K    Taxila  Ist      3      2"
      ]
     },
     "execution_count": 3,
     "metadata": {},
     "output_type": "execute_result"
    }
   ],
   "source": [
    "df = pd.DataFrame(data , index = pd.Index([\"A\",\"B\" , \"C\" , \"D\" ,\"E\" , \"F\",\"I\" , \"J\" ,\"K\"]) , columns = pd.Index([\"City\" , \"Rank\" , \"Game1\" , \"Game2\"]))\n",
    "df"
   ]
  },
  {
   "cell_type": "code",
   "execution_count": 4,
   "id": "d3b086e7",
   "metadata": {},
   "outputs": [
    {
     "data": {
      "text/plain": [
       "<pandas.core.groupby.generic.DataFrameGroupBy object at 0x0000022D634270A0>"
      ]
     },
     "execution_count": 4,
     "metadata": {},
     "output_type": "execute_result"
    }
   ],
   "source": [
    "df.groupby(\"City\")"
   ]
  },
  {
   "cell_type": "code",
   "execution_count": 5,
   "id": "9708f8bc",
   "metadata": {},
   "outputs": [
    {
     "data": {
      "text/plain": [
       "[('Multan',\n",
       "       City Rank  Game1  Game2\n",
       "  C  Multan  2nd      4     43\n",
       "  E  Multan  2nd      7      1\n",
       "  I  Multan  2nd     23      6),\n",
       " ('Peshawar',\n",
       "         City Rank  Game1  Game2\n",
       "  B  Peshawar  2nd      6      6\n",
       "  D  Peshawar  2nd      2     54),\n",
       " ('Taxila',\n",
       "       City Rank  Game1  Game2\n",
       "  A  Taxila  Ist      2     20\n",
       "  F  Taxila  Ist      4      3\n",
       "  K  Taxila  Ist      3      2),\n",
       " ('peshawar',\n",
       "         City Rank  Game1  Game2\n",
       "  J  peshawar  2nd      8      4)]"
      ]
     },
     "execution_count": 5,
     "metadata": {},
     "output_type": "execute_result"
    }
   ],
   "source": [
    "list(df.groupby(\"City\"))"
   ]
  },
  {
   "cell_type": "code",
   "execution_count": 6,
   "id": "fa27e979",
   "metadata": {},
   "outputs": [
    {
     "data": {
      "text/plain": [
       "{'Multan':      City Rank  Game1  Game2\n",
       " C  Multan  2nd      4     43\n",
       " E  Multan  2nd      7      1\n",
       " I  Multan  2nd     23      6,\n",
       " 'Peshawar':        City Rank  Game1  Game2\n",
       " B  Peshawar  2nd      6      6\n",
       " D  Peshawar  2nd      2     54,\n",
       " 'Taxila':      City Rank  Game1  Game2\n",
       " A  Taxila  Ist      2     20\n",
       " F  Taxila  Ist      4      3\n",
       " K  Taxila  Ist      3      2,\n",
       " 'peshawar':        City Rank  Game1  Game2\n",
       " J  peshawar  2nd      8      4}"
      ]
     },
     "execution_count": 6,
     "metadata": {},
     "output_type": "execute_result"
    }
   ],
   "source": [
    "dict(list(df.groupby(\"City\")))"
   ]
  },
  {
   "cell_type": "code",
   "execution_count": 7,
   "id": "fca569ad",
   "metadata": {},
   "outputs": [
    {
     "data": {
      "text/html": [
       "<div>\n",
       "<style scoped>\n",
       "    .dataframe tbody tr th:only-of-type {\n",
       "        vertical-align: middle;\n",
       "    }\n",
       "\n",
       "    .dataframe tbody tr th {\n",
       "        vertical-align: top;\n",
       "    }\n",
       "\n",
       "    .dataframe thead th {\n",
       "        text-align: right;\n",
       "    }\n",
       "</style>\n",
       "<table border=\"1\" class=\"dataframe\">\n",
       "  <thead>\n",
       "    <tr style=\"text-align: right;\">\n",
       "      <th></th>\n",
       "      <th>City</th>\n",
       "      <th>Rank</th>\n",
       "      <th>Game1</th>\n",
       "      <th>Game2</th>\n",
       "    </tr>\n",
       "  </thead>\n",
       "  <tbody>\n",
       "    <tr>\n",
       "      <th>A</th>\n",
       "      <td>Taxila</td>\n",
       "      <td>Ist</td>\n",
       "      <td>2</td>\n",
       "      <td>20</td>\n",
       "    </tr>\n",
       "    <tr>\n",
       "      <th>F</th>\n",
       "      <td>Taxila</td>\n",
       "      <td>Ist</td>\n",
       "      <td>4</td>\n",
       "      <td>3</td>\n",
       "    </tr>\n",
       "    <tr>\n",
       "      <th>K</th>\n",
       "      <td>Taxila</td>\n",
       "      <td>Ist</td>\n",
       "      <td>3</td>\n",
       "      <td>2</td>\n",
       "    </tr>\n",
       "  </tbody>\n",
       "</table>\n",
       "</div>"
      ],
      "text/plain": [
       "     City Rank  Game1  Game2\n",
       "A  Taxila  Ist      2     20\n",
       "F  Taxila  Ist      4      3\n",
       "K  Taxila  Ist      3      2"
      ]
     },
     "execution_count": 7,
     "metadata": {},
     "output_type": "execute_result"
    }
   ],
   "source": [
    "dict(list(df.groupby(\"City\")))[\"Taxila\"]"
   ]
  },
  {
   "cell_type": "code",
   "execution_count": null,
   "id": "d06b427e",
   "metadata": {},
   "outputs": [],
   "source": [
    "df[\"City\"]"
   ]
  },
  {
   "cell_type": "code",
   "execution_count": null,
   "id": "e6524543",
   "metadata": {},
   "outputs": [],
   "source": [
    "list(df[\"City\"])"
   ]
  },
  {
   "cell_type": "code",
   "execution_count": null,
   "id": "c4a353f9",
   "metadata": {},
   "outputs": [],
   "source": [
    "list(df[\"City\"].groupby(df[\"Rank\"]))"
   ]
  },
  {
   "cell_type": "code",
   "execution_count": null,
   "id": "5a50bb3b",
   "metadata": {},
   "outputs": [],
   "source": [
    "dict(list(df.groupby([\"City\" , \"Rank\"])))"
   ]
  },
  {
   "cell_type": "markdown",
   "id": "f986e707",
   "metadata": {},
   "source": [
    "# Concat function"
   ]
  },
  {
   "cell_type": "code",
   "execution_count": null,
   "id": "7ce5c083",
   "metadata": {},
   "outputs": [],
   "source": [
    "data1 = {\"Names\" : [\"Ali\" , \"Ahmed\" , \"Bilal\" , \"Khawar\"],\n",
    "        \"Id\" : [10,20,30,40],\n",
    "        \"Subjects\" : [\"English\" , \"Urdu\" , \"Math\" , \"Pak Studies\"]}\n",
    "undergraduate_student = pd.DataFrame(data1 , columns = [\"Id\" , \"Names\" , \"Subjects\"])     #es sy hum apni marzi sy column ki jaga select kr sakty hain warna compiler apni marzi sy koi random jaga select kr ly ga\n",
    "undergraduate_student"
   ]
  },
  {
   "cell_type": "code",
   "execution_count": null,
   "id": "4e1e38a6",
   "metadata": {},
   "outputs": [],
   "source": [
    "data2 = {\"Names\" : [\"Shani\" , \"Faizi\" , \"Bilal\" , \"Shazil\"],\n",
    "        \"Id\" : [50,60,70,80],\n",
    "        \"Subjects\" : [\"pf\" , \"Linear\" , \"python\" , \"Studies\"]}\n",
    "undergraduate_student1 = pd.DataFrame(data1 , columns = [\"Id\" , \"Names\" , \"Subjects\"])\n",
    "undergraduate_student1"
   ]
  },
  {
   "cell_type": "code",
   "execution_count": null,
   "id": "2b82380a",
   "metadata": {},
   "outputs": [],
   "source": [
    "pd.concat([undergraduate_student,undergraduate_student1])"
   ]
  },
  {
   "cell_type": "code",
   "execution_count": null,
   "id": "51a72d47",
   "metadata": {},
   "outputs": [],
   "source": [
    "pd.concat([undergraduate_student,undergraduate_student1] , ignore_index = True)     #Es sy index ka sequence Thk kr dy ga warn uper waly column main kharab tha"
   ]
  },
  {
   "cell_type": "code",
   "execution_count": null,
   "id": "dba1b7c8",
   "metadata": {},
   "outputs": [],
   "source": [
    "pd.concat([undergraduate_student,undergraduate_student1] , axis = 1 , ignore_index = True)   #by default axis zero hota ha jis row wise means data k neechay he concat kr deta ha or column wise data k agy concat kr deta ha es k liye hamain likna parta ha axis = 1"
   ]
  },
  {
   "cell_type": "code",
   "execution_count": null,
   "id": "c11244b6",
   "metadata": {},
   "outputs": [],
   "source": [
    "\n",
    "\n",
    "a= pd.concat([undergraduate_student , undergraduate_student1] , keys = [\"first student\" , \"second student\"])   #es sy hum apni marzi sy keys set krty hain jab hamary pas zada data ho to asani sy kisi 1 key ka data find kr sakain\n",
    "a"
   ]
  },
  {
   "cell_type": "code",
   "execution_count": null,
   "id": "9a4c4ae4",
   "metadata": {},
   "outputs": [],
   "source": [
    "a.loc[\"second student\"]\n"
   ]
  },
  {
   "cell_type": "markdown",
   "id": "2a437bc7",
   "metadata": {},
   "source": [
    "# merge Function"
   ]
  },
  {
   "cell_type": "code",
   "execution_count": null,
   "id": "ab0a9abb",
   "metadata": {},
   "outputs": [],
   "source": [
    "a = {\"Names\" : [\"Ali\" , \"Ahmed\" , \"Bilal\" , \"Khawar\" , \"Shani\"] , \n",
    "    \"Ages\" : [21 , 22 ,28 , 24 , 20]}\n",
    "df1  =  pd.DataFrame(a)\n",
    "df1"
   ]
  },
  {
   "cell_type": "code",
   "execution_count": null,
   "id": "0f7ce1c3",
   "metadata": {},
   "outputs": [],
   "source": [
    "b = {\"Names\" : [\"Faizi\" , \"Shazil\" , \"Bilal\" , \"hamza\" , \"Shani\"] , \n",
    "    \"Ages\" : [20 , 18 ,28 , 17 , 20]}\n",
    "df2  =  pd.DataFrame(b)\n",
    "df2"
   ]
  },
  {
   "cell_type": "code",
   "execution_count": null,
   "id": "d5986756",
   "metadata": {},
   "outputs": [],
   "source": [
    "pd.merge(df1 , df2, on = \"Names\")  #es function main sirf common values print kry ga"
   ]
  },
  {
   "cell_type": "code",
   "execution_count": null,
   "id": "c321f6ca",
   "metadata": {},
   "outputs": [],
   "source": [
    "pd.merge(df1 , df2, on = \"Names\" , how = \"right\")  #es main jo hum ny right main df2 function likha howa ha uski values or df1 main or df2 main jo common values hain unko print kr fy ga"
   ]
  },
  {
   "cell_type": "code",
   "execution_count": null,
   "id": "cb6b2f20",
   "metadata": {},
   "outputs": [],
   "source": [
    "pd.merge(df1 , df2, on = \"Names\" , how = \"left\")  #es main jo hum ny left main df1 function likha howa ha uski values or df2 main or df2 main jo common values hain unko print kr fy ga"
   ]
  },
  {
   "cell_type": "code",
   "execution_count": null,
   "id": "3c599912",
   "metadata": {},
   "outputs": [],
   "source": [
    "pd.merge(df1 , df2, on = \"Names\" , how = \"outer\")  #es main jo df1 main or df2 main jo jo values hain wo ssub print kr dy ga jo jo common hain unko 1 bar merge kr k likh dy ga"
   ]
  },
  {
   "cell_type": "code",
   "execution_count": null,
   "id": "73ad8bb7",
   "metadata": {},
   "outputs": [],
   "source": [
    "pd.merge(df1 , df2, on = \"Names\" , how = \"inner\")  #inner ka matlab ha jo dono functions main common vakues hain unko print kr dy ga or by default B yeh inner he hota halikhain na likhain 1 he ,matlab hota ha"
   ]
  },
  {
   "cell_type": "code",
   "execution_count": null,
   "id": "98119d9d",
   "metadata": {},
   "outputs": [],
   "source": [
    "pd.merge(df1 , df2, on = \"Names\" , how = \"right\" , indicator = True)  #es main hamain yrh btay ga k kin da left sy select howa ha or konsa right sy howa ha or konsi values dono main majood thi"
   ]
  },
  {
   "cell_type": "markdown",
   "id": "5cad0718",
   "metadata": {},
   "source": [
    "# melt function"
   ]
  },
  {
   "cell_type": "code",
   "execution_count": null,
   "id": "1d6bca77",
   "metadata": {},
   "outputs": [],
   "source": [
    "file = pd.read_csv(\"city data.csv\")\n",
    "file"
   ]
  },
  {
   "cell_type": "code",
   "execution_count": null,
   "id": "b3130bb8",
   "metadata": {},
   "outputs": [],
   "source": [
    "pd.melt(file , id_vars = [\"Days\"])    #agr hum  id vars  = days na krty to yeh sub kch 1 he line main print ho ho jata variable main sari string values aajti jis main daya or city sub kch 1 he line main hota or value main sari integer values aati jis main sub interger values 1 he line main hoti"
   ]
  },
  {
   "cell_type": "code",
   "execution_count": null,
   "id": "e94f2f2c",
   "metadata": {},
   "outputs": [],
   "source": [
    "dfff = pd.melt(file , id_vars = [\"Days\"])\n",
    "dfff[dfff[\"variable\"] == \"Multan\"]      #es function sy humy sirf  multan ka sara data mil jay ga "
   ]
  },
  {
   "cell_type": "code",
   "execution_count": null,
   "id": "1e26b97c",
   "metadata": {},
   "outputs": [],
   "source": [
    "pd.melt(file , id_vars = [\"Days\"] , var_name = \"Citites\" , value_name = \"profit\")    #es sy hum apny variable or values k name chhange kr saty hain"
   ]
  },
  {
   "cell_type": "code",
   "execution_count": null,
   "id": "c8d50af6",
   "metadata": {},
   "outputs": [],
   "source": []
  },
  {
   "cell_type": "code",
   "execution_count": null,
   "id": "ce4feedc",
   "metadata": {},
   "outputs": [],
   "source": []
  }
 ],
 "metadata": {
  "kernelspec": {
   "display_name": "Python 3 (ipykernel)",
   "language": "python",
   "name": "python3"
  },
  "language_info": {
   "codemirror_mode": {
    "name": "ipython",
    "version": 3
   },
   "file_extension": ".py",
   "mimetype": "text/x-python",
   "name": "python",
   "nbconvert_exporter": "python",
   "pygments_lexer": "ipython3",
   "version": "3.9.7"
  }
 },
 "nbformat": 4,
 "nbformat_minor": 5
}
