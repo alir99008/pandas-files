{
 "cells": [
  {
   "cell_type": "code",
   "execution_count": null,
   "id": "c301f398",
   "metadata": {},
   "outputs": [],
   "source": [
    "import pandas as pd\n",
    "dictionary = {\"first\" : pd.Series([10,20,30,40,50],[\"urdu\",\"eng\",\"phy\",\"isl\",\"chem\"]),\n",
    "             \"second\" : pd.Series([60,20,70,80,50],[\"science\",\"math\",\"phy\",\"isl\",\"pf\"])}\n",
    "d = pd.DataFrame(dictionary)\n",
    "d"
   ]
  },
  {
   "cell_type": "code",
   "execution_count": null,
   "id": "f9652e90",
   "metadata": {},
   "outputs": [],
   "source": [
    "print(\"the index of the all dictionary = \",d.index)\n",
    "# print(\"the columns in the dictionary = \",d.columns)\n",
    "print(\"print the value to this index\",pd.DataFrame(d,index = [\"science\",\"phy\",\"chem\"]))     #to find the value at perticular index\n",
    "pd.DataFrame(d,index = [\"eng\" , \"Urdu\" , \"isl\"] , columns = [\"first\", \"second\" , \"four\"]) #es main check kry ga ga k urdu , eng  , isl ky first , second ya fourth column main sy kisi main ha to print kr dy ga \n"
   ]
  },
  {
   "cell_type": "code",
   "execution_count": null,
   "id": "227e4d66",
   "metadata": {},
   "outputs": [],
   "source": [
    "#Arithmetic operations\n",
    "d[\"third\"] =d[\"first\"]+d[\"second\"] \n",
    "d\n",
    "d[\"third\"] =d[\"first\"]-d[\"second\"] \n",
    "print(\"substraction = \",d)\n",
    "d[\"third\"] =d[\"first\"]*d[\"second\"] \n",
    "print(\"multiplication = \",d)\n",
    "d[\"third\"] =d[\"first\"]/d[\"second\"]\n",
    "d       #jab hum begair print likhy print krwain gy to tab he esy pyara sa print kry ga"
   ]
  },
  {
   "cell_type": "code",
   "execution_count": null,
   "id": "bcf62db5",
   "metadata": {},
   "outputs": [],
   "source": [
    "#insert Function\n",
    "d.insert(2,\"fifth\",d[\"first\"])      #yeh wala function index 2 waly column ki jaga 1 or fifth k name sy column enter kr dy ga or main sari values first wali copy kr dy aga\n",
    "d"
   ]
  },
  {
   "cell_type": "code",
   "execution_count": null,
   "id": "4d6c8653",
   "metadata": {},
   "outputs": [],
   "source": [
    "#Conditional statements\n",
    "d[\"third\"] =d[\"first\"]<d[\"second\"] \n",
    "d #its check the whole first column from the second column  "
   ]
  },
  {
   "cell_type": "code",
   "execution_count": null,
   "id": "bc44583f",
   "metadata": {},
   "outputs": [],
   "source": []
  },
  {
   "cell_type": "markdown",
   "id": "22d0ef92",
   "metadata": {},
   "source": [
    "# Dictionary without series"
   ]
  },
  {
   "cell_type": "code",
   "execution_count": 174,
   "id": "8c8ece16",
   "metadata": {},
   "outputs": [
    {
     "data": {
      "text/plain": [
       "[{'ahmed': 22, 'ali': 21, 'sania': 25},\n",
       " {'bilal': 28, 'sania': 1, 'ayan': 1},\n",
       " {'shani': 20, 'faizi': 20, 'mehmish': 18}]"
      ]
     },
     "execution_count": 174,
     "metadata": {},
     "output_type": "execute_result"
    }
   ],
   "source": [
    "dictionary1 = [{\"ahmed\" : 22 , \"ali\" : 21 , \"sania\" : 25} , {\"bilal\" : 28 , \"sania\"  : 1 ,  \"ayan\" : 1} ,{\"shani\" : 20 , \"faizi\" : 20 , \"mehmish\" : 18} ]\n",
    "dictionary1"
   ]
  },
  {
   "cell_type": "code",
   "execution_count": 175,
   "id": "8ff7844c",
   "metadata": {},
   "outputs": [
    {
     "data": {
      "text/html": [
       "<div>\n",
       "<style scoped>\n",
       "    .dataframe tbody tr th:only-of-type {\n",
       "        vertical-align: middle;\n",
       "    }\n",
       "\n",
       "    .dataframe tbody tr th {\n",
       "        vertical-align: top;\n",
       "    }\n",
       "\n",
       "    .dataframe thead th {\n",
       "        text-align: right;\n",
       "    }\n",
       "</style>\n",
       "<table border=\"1\" class=\"dataframe\">\n",
       "  <thead>\n",
       "    <tr style=\"text-align: right;\">\n",
       "      <th></th>\n",
       "      <th>ahmed</th>\n",
       "      <th>ali</th>\n",
       "      <th>sania</th>\n",
       "      <th>bilal</th>\n",
       "      <th>ayan</th>\n",
       "      <th>shani</th>\n",
       "      <th>faizi</th>\n",
       "      <th>mehmish</th>\n",
       "    </tr>\n",
       "  </thead>\n",
       "  <tbody>\n",
       "    <tr>\n",
       "      <th>0</th>\n",
       "      <td>22.0</td>\n",
       "      <td>21.0</td>\n",
       "      <td>25.0</td>\n",
       "      <td>NaN</td>\n",
       "      <td>NaN</td>\n",
       "      <td>NaN</td>\n",
       "      <td>NaN</td>\n",
       "      <td>NaN</td>\n",
       "    </tr>\n",
       "    <tr>\n",
       "      <th>1</th>\n",
       "      <td>NaN</td>\n",
       "      <td>NaN</td>\n",
       "      <td>1.0</td>\n",
       "      <td>28.0</td>\n",
       "      <td>1.0</td>\n",
       "      <td>NaN</td>\n",
       "      <td>NaN</td>\n",
       "      <td>NaN</td>\n",
       "    </tr>\n",
       "    <tr>\n",
       "      <th>2</th>\n",
       "      <td>NaN</td>\n",
       "      <td>NaN</td>\n",
       "      <td>NaN</td>\n",
       "      <td>NaN</td>\n",
       "      <td>NaN</td>\n",
       "      <td>20.0</td>\n",
       "      <td>20.0</td>\n",
       "      <td>18.0</td>\n",
       "    </tr>\n",
       "  </tbody>\n",
       "</table>\n",
       "</div>"
      ],
      "text/plain": [
       "   ahmed   ali  sania  bilal  ayan  shani  faizi  mehmish\n",
       "0   22.0  21.0   25.0    NaN   NaN    NaN    NaN      NaN\n",
       "1    NaN   NaN    1.0   28.0   1.0    NaN    NaN      NaN\n",
       "2    NaN   NaN    NaN    NaN   NaN   20.0   20.0     18.0"
      ]
     },
     "execution_count": 175,
     "metadata": {},
     "output_type": "execute_result"
    }
   ],
   "source": [
    "df = pd.DataFrame(dictionary1)\n",
    "df\n",
    "\n"
   ]
  },
  {
   "cell_type": "code",
   "execution_count": 178,
   "id": "f6c99b3a",
   "metadata": {},
   "outputs": [
    {
     "data": {
      "text/html": [
       "<div>\n",
       "<style scoped>\n",
       "    .dataframe tbody tr th:only-of-type {\n",
       "        vertical-align: middle;\n",
       "    }\n",
       "\n",
       "    .dataframe tbody tr th {\n",
       "        vertical-align: top;\n",
       "    }\n",
       "\n",
       "    .dataframe thead th {\n",
       "        text-align: right;\n",
       "    }\n",
       "</style>\n",
       "<table border=\"1\" class=\"dataframe\">\n",
       "  <thead>\n",
       "    <tr style=\"text-align: right;\">\n",
       "      <th></th>\n",
       "      <th>ahmed</th>\n",
       "      <th>ali</th>\n",
       "      <th>sania</th>\n",
       "      <th>bilal</th>\n",
       "      <th>ayan</th>\n",
       "      <th>shani</th>\n",
       "      <th>faizi</th>\n",
       "      <th>mehmish</th>\n",
       "    </tr>\n",
       "  </thead>\n",
       "  <tbody>\n",
       "    <tr>\n",
       "      <th>0</th>\n",
       "      <td>22.0</td>\n",
       "      <td>21.0</td>\n",
       "      <td>25.0</td>\n",
       "      <td>NaN</td>\n",
       "      <td>NaN</td>\n",
       "      <td>NaN</td>\n",
       "      <td>NaN</td>\n",
       "      <td>NaN</td>\n",
       "    </tr>\n",
       "    <tr>\n",
       "      <th>1</th>\n",
       "      <td>NaN</td>\n",
       "      <td>NaN</td>\n",
       "      <td>1.0</td>\n",
       "      <td>28.0</td>\n",
       "      <td>1.0</td>\n",
       "      <td>NaN</td>\n",
       "      <td>NaN</td>\n",
       "      <td>NaN</td>\n",
       "    </tr>\n",
       "    <tr>\n",
       "      <th>2</th>\n",
       "      <td>NaN</td>\n",
       "      <td>NaN</td>\n",
       "      <td>NaN</td>\n",
       "      <td>NaN</td>\n",
       "      <td>NaN</td>\n",
       "      <td>20.0</td>\n",
       "      <td>20.0</td>\n",
       "      <td>18.0</td>\n",
       "    </tr>\n",
       "  </tbody>\n",
       "</table>\n",
       "</div>"
      ],
      "text/plain": [
       "   ahmed   ali  sania  bilal  ayan  shani  faizi  mehmish\n",
       "0   22.0  21.0   25.0    NaN   NaN    NaN    NaN      NaN\n",
       "1    NaN   NaN    1.0   28.0   1.0    NaN    NaN      NaN\n",
       "2    NaN   NaN    NaN    NaN   NaN   20.0   20.0     18.0"
      ]
     },
     "execution_count": 178,
     "metadata": {},
     "output_type": "execute_result"
    }
   ],
   "source": [
    "pd.DataFrame(df , index = [\"mama\" , \"taya\" , \"phupoo\"])  #hum apni marzi sy B index dy sakty hain nai to by default 0 1 2 hoty hain\n",
    "df"
   ]
  },
  {
   "cell_type": "code",
   "execution_count": 183,
   "id": "ed22d7a1",
   "metadata": {},
   "outputs": [
    {
     "data": {
      "text/html": [
       "<div>\n",
       "<style scoped>\n",
       "    .dataframe tbody tr th:only-of-type {\n",
       "        vertical-align: middle;\n",
       "    }\n",
       "\n",
       "    .dataframe tbody tr th {\n",
       "        vertical-align: top;\n",
       "    }\n",
       "\n",
       "    .dataframe thead th {\n",
       "        text-align: right;\n",
       "    }\n",
       "</style>\n",
       "<table border=\"1\" class=\"dataframe\">\n",
       "  <thead>\n",
       "    <tr style=\"text-align: right;\">\n",
       "      <th></th>\n",
       "      <th>ali</th>\n",
       "      <th>shani</th>\n",
       "      <th>ayan</th>\n",
       "    </tr>\n",
       "  </thead>\n",
       "  <tbody>\n",
       "    <tr>\n",
       "      <th>0</th>\n",
       "      <td>21.0</td>\n",
       "      <td>NaN</td>\n",
       "      <td>NaN</td>\n",
       "    </tr>\n",
       "    <tr>\n",
       "      <th>1</th>\n",
       "      <td>NaN</td>\n",
       "      <td>NaN</td>\n",
       "      <td>1.0</td>\n",
       "    </tr>\n",
       "    <tr>\n",
       "      <th>2</th>\n",
       "      <td>NaN</td>\n",
       "      <td>20.0</td>\n",
       "      <td>NaN</td>\n",
       "    </tr>\n",
       "  </tbody>\n",
       "</table>\n",
       "</div>"
      ],
      "text/plain": [
       "    ali  shani  ayan\n",
       "0  21.0    NaN   NaN\n",
       "1   NaN    NaN   1.0\n",
       "2   NaN   20.0   NaN"
      ]
     },
     "execution_count": 183,
     "metadata": {},
     "output_type": "execute_result"
    }
   ],
   "source": [
    "pd.DataFrame(df , columns = [\"ali\" , \"shani\" ,\"ayan\"])  # hum apni marzi k columns ka data B access kr sakty hain\n"
   ]
  },
  {
   "cell_type": "code",
   "execution_count": null,
   "id": "715b4e5a",
   "metadata": {},
   "outputs": [],
   "source": []
  },
  {
   "cell_type": "code",
   "execution_count": null,
   "id": "2c0e767c",
   "metadata": {},
   "outputs": [],
   "source": []
  }
 ],
 "metadata": {
  "kernelspec": {
   "display_name": "Python 3",
   "language": "python",
   "name": "python3"
  },
  "language_info": {
   "codemirror_mode": {
    "name": "ipython",
    "version": 3
   },
   "file_extension": ".py",
   "mimetype": "text/x-python",
   "name": "python",
   "nbconvert_exporter": "python",
   "pygments_lexer": "ipython3",
   "version": "3.8.8"
  }
 },
 "nbformat": 4,
 "nbformat_minor": 5
}
